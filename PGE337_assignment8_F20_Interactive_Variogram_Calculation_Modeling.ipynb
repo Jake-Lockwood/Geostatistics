{
  "nbformat": 4,
  "nbformat_minor": 0,
  "metadata": {
    "kernelspec": {
      "display_name": "Python 3",
      "language": "python",
      "name": "python3"
    },
    "language_info": {
      "codemirror_mode": {
        "name": "ipython",
        "version": 3
      },
      "file_extension": ".py",
      "mimetype": "text/x-python",
      "name": "python",
      "nbconvert_exporter": "python",
      "pygments_lexer": "ipython3",
      "version": "3.7.6"
    },
    "colab": {
      "name": "PGE337_assignment8_F20_Interactive_Variogram_Calculation_Modeling.ipynb",
      "provenance": [],
      "include_colab_link": true
    }
  },
  "cells": [
    {
      "cell_type": "markdown",
      "metadata": {
        "id": "view-in-github",
        "colab_type": "text"
      },
      "source": [
        "<a href=\"https://colab.research.google.com/github/Jake-Lockwood/Geostatistics/blob/main/PGE337_assignment8_F20_Interactive_Variogram_Calculation_Modeling.ipynb\" target=\"_parent\"><img src=\"https://colab.research.google.com/assets/colab-badge.svg\" alt=\"Open In Colab\"/></a>"
      ]
    },
    {
      "cell_type": "markdown",
      "metadata": {
        "id": "APdy5r4ZeyAd"
      },
      "source": [
        "\n",
        "<p align=\"center\">\n",
        "    <img src=\"https://github.com/GeostatsGuy/GeostatsPy/blob/master/TCG_color_logo.png?raw=true\" width=\"220\" height=\"240\" />\n",
        "\n",
        "</p>\n",
        "\n",
        "## Interactive Variogram Calculation and Modeling Demonstration\n",
        "\n",
        "\n",
        "### Michael Pyrcz, Associate Professor, University of Texas at Austin \n",
        "\n",
        "##### [Twitter](https://twitter.com/geostatsguy) | [GitHub](https://github.com/GeostatsGuy) | [Website](http://michaelpyrcz.com) | [GoogleScholar](https://scholar.google.com/citations?user=QVZ20eQAAAAJ&hl=en&oi=ao) | [Book](https://www.amazon.com/Geostatistical-Reservoir-Modeling-Michael-Pyrcz/dp/0199731446) | [YouTube](https://www.youtube.com/channel/UCLqEr-xV-ceHdXXXrTId5ig)  | [LinkedIn](https://www.linkedin.com/in/michael-pyrcz-61a648a1)\n",
        "\n",
        "\n",
        "### The Interactive Workflow\n",
        "\n",
        "Here's an interactive workflow for calculating directional experimental variograms in 2D. \n",
        "\n",
        "* setting the variogram calculation parameters for identifying spatial data pairs \n",
        "\n",
        "This approach is essential for quantifying spatial continuity with sparsely sampled, irregular spatial data.\n",
        "\n",
        "I have more comprehensive workflows for variogram calculation:\n",
        "\n",
        "* [Experimental Variogram Calculation in Python with GeostatsPy](https://github.com/GeostatsGuy/PythonNumericalDemos/blob/master/GeostatsPy_variogram_calculation.ipynb)\n",
        "\n",
        "* [Determination of Major and Minor Spatial Continuity Directions in Python with GeostatsPy](https://github.com/GeostatsGuy/PythonNumericalDemos/blob/master/GeostatsPy_spatial_continuity_directions.ipynb)\n",
        "\n",
        "#### Spatial Continuity \n",
        "\n",
        "**Spatial Continuity** is the correlation between values over distance.\n",
        "\n",
        "* No spatial continuity – no correlation between values over distance, random values at each location in space regardless of separation distance.\n",
        "\n",
        "* Homogenous phenomenon have perfect spatial continuity, since all values as the same (or very similar) they are correlated. \n",
        "\n",
        "We need a statistic to quantify spatial continuity! A convenient method is the Semivariogram.\n",
        "\n",
        "#### The Semivariogram\n",
        "\n",
        "Function of difference over distance.\n",
        "\n",
        "* The expected (average) squared difference between values separated by a lag distance vector (distance and direction), $h$:\n",
        "\n",
        "\\begin{equation}\n",
        "\\gamma(\\bf{h}) = \\frac{1}{2 N(\\bf{h})} \\sum^{N(\\bf{h})}_{\\alpha=1} (z(\\bf{u}_\\alpha) - z(\\bf{u}_\\alpha + \\bf{h}))^2  \n",
        "\\end{equation}\n",
        "\n",
        "where $z(\\bf{u}_\\alpha)$ and $z(\\bf{u}_\\alpha + \\bf{h})$ are the spatial sample values at tail and head locations of the lag vector respectively.\n",
        "\n",
        "* Calculated over a suite of lag distances to obtain a continuous function.\n",
        "\n",
        "* the $\\frac{1}{2}$ term converts a variogram into a semivariogram, but in practice the term variogram is used instead of semivariogram.\n",
        "* We prefer the semivariogram because it relates directly to the covariance function, $C_x(\\bf{h})$ and univariate variance, $\\sigma^2_x$:\n",
        "\n",
        "\\begin{equation}\n",
        "C_x(\\bf{h}) = \\sigma^2_x - \\gamma(\\bf{h})\n",
        "\\end{equation}\n",
        "\n",
        "Note the correlogram is related to the covariance function as:\n",
        "\n",
        "\\begin{equation}\n",
        "\\rho_x(\\bf{h}) = \\frac{C_x(\\bf{h})}{\\sigma^2_x}\n",
        "\\end{equation}\n",
        "\n",
        "The correlogram provides of function of the $\\bf{h}-\\bf{h}$ scatter plot correlation vs. lag offset $\\bf{h}$.  \n",
        "\n",
        "\\begin{equation}\n",
        "-1.0 \\le \\rho_x(\\bf{h}) \\le 1.0\n",
        "\\end{equation}\n",
        "\n",
        "#### Variogram Observations\n",
        "\n",
        "The following are common observations for variograms that should assist with their practical use.\n",
        "\n",
        "##### Observation \\#1 - As distance increases, variability increase (in general).\n",
        "\n",
        "This is common since in general, over greater distance offsets, there is often more difference between the head and tail samples.\n",
        "\n",
        "In some cases, such as with spatial cyclicity of the hole effect variogram model the variogram may have negative slope over somelag distance intervals\n",
        "\n",
        "Negative slopes at lag distances greater than half the data extent are often caused by too few pairs for a reliable variogram calculation\n",
        "\n",
        "##### Observation \\#2 - Calculated with over all possible pairs separated by lag vector, $\\bf{𝐡}$.\n",
        "\n",
        "We scan through the entire data set, searching for all possible pair combinations with all other data.  We then calculate the variogram as one half the expectation of squared difference between all pairs.\n",
        "\n",
        "More pairs results in a more reliable measure.\n",
        "\n",
        "##### Observation \\#3 - Need to plot the sill to know the degree of correlation.\n",
        "\n",
        "**Sill** is the variance, $\\sigma^2_x$\n",
        "\n",
        "Given stationarity of the variance, $\\sigma^2_x$, and variogram $\\gamma(\\bf{h})$:\n",
        "\n",
        "we can define the covariance function:\n",
        "\n",
        "\\begin{equation}\n",
        "C_x(\\bf{h}) = \\sigma^2_x - \\gamma(\\bf{h})\n",
        "\\end{equation}\n",
        "\n",
        "The covariance measure is a measure of similarity over distance (the mirror image of the variogram as shown by the equation above).\n",
        "\n",
        "Given a standardized distribution $\\sigma^2_x = 1.0$, the covariance, $C_x(\\bf{h})$, is equal to the correlogram, $\\rho_x(\\bf{h})$: \n",
        "\n",
        "\\begin{equation}\n",
        "\\rho_x(\\bf{h}) = \\sigma^2_x - \\gamma(\\bf{h})\n",
        "\\end{equation}\n",
        "\n",
        "##### Observation \\#4 - The lag distance at which the variogram reaches the sill is know as the range.\n",
        "\n",
        "At the range, knowing the data value at the tail location provides no information about a value at the head location of the lag distance vector.\n",
        "\n",
        "##### Observation \\#5 - The nugget effect, a discontinuity at the origin\n",
        "\n",
        "Sometimes there is a discontinuity in the variogram at distances less than the minimum data spacing.  This is known as **nugget effect**.\n",
        "\n",
        "The ratio of nugget / sill, is known as relative nugget effect (%). Modeled as a discontinuity with no correlation structure that at lags, $h \\gt \\epsilon$, an infinitesimal lag distance, and perfect correlation at $\\bf{h} = 0$.\n",
        "Caution when including nuggect effect in the variogram model as measurement error, mixing populations cause apparent nugget effect\n",
        "\n",
        "This exercise demonstrates the semivariogram calculation with GeostatsPy. The steps include:\n",
        "\n",
        "1. generate a 2D model with sequential Gaussian simulation\n",
        "2. sample from the simulation\n",
        "3. calculate and visualize experimental semivariograms\n",
        "\n",
        "#### Variogram Calculation Parameters\n",
        "\n",
        "The variogram calculation parameters include:\n",
        "\n",
        "* **azimuth** is the azimuth of the lag vector\n",
        "\n",
        "* **azimuth tolerance** is the maximum allowable departure from the azimuth (isotropic variograms are calculated with an azimuth tolerance of to 90.0)\n",
        "\n",
        "* **unit lag distance** the size of the bins in lag distance, usually set to the minimum data spacing\n",
        "\n",
        "* **lag distance tolerance** - the allowable tolerance in lage distance, commonly set to 50% of unit lag distanceonal smoothing\n",
        "\n",
        "* **number of lags** - set based on the spatial extent of the dataset, we can typically calculate reliable variograms up to 1/2 the extent of the dataset\n",
        "\n",
        "* **bandwidth** is the maximum offset allowable from the lag vector \n",
        "\n",
        "\n",
        "#### Variogram Modeling\n",
        "\n",
        "Spatial continuity can be modeled with nested, positive definate variogram structures:\n",
        "\n",
        "\\begin{equation}\n",
        "\\Gamma_x(\\bf{h}) = \\sum_{i=1}^{nst} \\gamma_i(\\bf{h})\n",
        "\\end{equation}\n",
        "\n",
        "where $\\Gamma_x(\\bf{h})$ is the nested variogram model resulting from the summation of $nst$ nested variograms  $\\gamma_i(\\bf{h})$.\n",
        "\n",
        "The types of structure commonly applied include:\n",
        "\n",
        "* spherical\n",
        "\n",
        "* exponential\n",
        "\n",
        "* gaussian\n",
        "\n",
        "* nugget\n",
        "\n",
        "Other less common models include:\n",
        "\n",
        "* hole effect\n",
        "\n",
        "* dampenned hole effect\n",
        "\n",
        "* power law\n",
        "\n",
        "these will not be covered here.\n",
        "\n",
        "Each one of these variogram structures, $\\gamma_i(\\bf{h})$, is based on a geometric anisotropy model parameterized by the orientation and range in the major and minor directions.  In 2D this is simply an azimuth and ranges, $azi$, $a_{maj}$ and $a_{min}$. Note, the range in the minor direction (orthogonal to the major direction).\n",
        "\n",
        "The geometric anisotropy model assumes that the range in all off-diagonal directions is based on an ellipse with the major and minor axes alligned with and set to the major and minor for the variogram.\n",
        "\n",
        "\\begin{equation}\n",
        "\\bf{h}_i = \\sqrt{\\left(\\frac{r_{maj}}{a_{maj_i}}\\right)^2 + \\left(\\frac{r_{maj}}{a_{maj_i}}\\right)^2}  \n",
        "\\end{equation}\n",
        "\n",
        "Therefore, if we know the major direction, range in major and minor directions, we may completely describe each nested componnent of the complete spatial continuity of the variable of interest, $i = 1,\\dots,nst$.\n",
        "\n",
        "Some comments on modeling nested variograms:\n",
        "\n",
        "* we can capture nugget, short and long range continuity structures\n",
        "\n",
        "* we rely on the geometric anisotropy model, so all structures must inform the same level of contribution (porportion of the sill) in all directions.\n",
        "\n",
        "* the geometric anisotropy model is based on azimuth of the major direction of continuity, range in the major direction and range in the minor direction (orthogonal to the major direction).  The range is interpolated between the major and minor azimuths with a ellipse model\n",
        "\n",
        "* we can vary the type of variogram, direction or azimuth of the major direction, and major and minor ranges by structure\n",
        "\n",
        "In this workflow we will explore methods to:\n",
        "\n",
        "1. detect directionality from a spatial dataset\n",
        "2. calculate the directional variograms in the major and minor directions \n",
        "3. build a consistent 2D model fit to the major and minor directions\n",
        "\n",
        "#### Objective \n",
        "\n",
        "In the PGE 383: Stochastic Subsurface Modeling class I want to provide hands-on experience with building subsurface modeling workflows. Python provides an excellent vehicle to accomplish this. I have coded a package called GeostatsPy with GSLIB: Geostatistical Library (Deutsch and Journel, 1998) functionality that provides basic building blocks for building subsurface modeling workflows. \n",
        "\n",
        "The objective is to remove the hurdles of subsurface modeling workflow construction by providing building blocks and sufficient examples. This is not a coding class per se, but we need the ability to 'script' workflows working with numerical methods.    \n",
        "\n",
        "#### Getting Started\n",
        "\n",
        "Here's the steps to get setup in Python with the GeostatsPy package:\n",
        "\n",
        "1. Install Anaconda 3 on your machine (https://www.anaconda.com/download/). \n",
        "2. From Anaconda Navigator (within Anaconda3 group), go to the environment tab, click on base (root) green arrow and open a terminal. \n",
        "3. In the terminal type: pip install geostatspy. \n",
        "4. Open Jupyter and in the top block get started by copy and pasting the code block below from this Jupyter Notebook to start using the geostatspy functionality. \n",
        "\n",
        "You will need to copy the data file to your working directory.  They are available here:\n",
        "\n",
        "* Tabular data - sample_data.csv at https://git.io/fh4gm.\n",
        "\n",
        "There are exampled below with these functions. You can go here to see a list of the available functions, https://git.io/fh4eX, other example workflows and source code. \n",
        "\n",
        "#### Load the required libraries\n",
        "\n",
        "The following code loads the required libraries."
      ]
    },
    {
      "cell_type": "code",
      "metadata": {
        "id": "nI8iqtgLeyAg"
      },
      "source": [
        "import geostatspy.GSLIB as GSLIB                       # GSLIB utilies, visualization and wrapper\n",
        "import geostatspy.geostats as geostats                 # GSLIB methods convert to Python    "
      ],
      "execution_count": null,
      "outputs": []
    },
    {
      "cell_type": "markdown",
      "metadata": {
        "id": "UeJX1Ls-eyAm"
      },
      "source": [
        "We will also need some standard packages. These should have been installed with Anaconda 3."
      ]
    },
    {
      "cell_type": "code",
      "metadata": {
        "id": "jkWRa14OeyAn"
      },
      "source": [
        "%matplotlib inline\n",
        "import os                                               # to set current working directory \n",
        "import sys                                              # supress output to screen for interactive variogram modeling\n",
        "import io\n",
        "import numpy as np                                      # arrays and matrix math\n",
        "import pandas as pd                                     # DataFrames\n",
        "import matplotlib.pyplot as plt                         # plotting\n",
        "from matplotlib.pyplot import cm                        # color maps\n",
        "from ipywidgets import interactive                      # widgets and interactivity\n",
        "from ipywidgets import widgets                            \n",
        "from ipywidgets import Layout\n",
        "from ipywidgets import Label\n",
        "from ipywidgets import VBox, HBox"
      ],
      "execution_count": null,
      "outputs": []
    },
    {
      "cell_type": "markdown",
      "metadata": {
        "id": "u_BAXcTkeyAq"
      },
      "source": [
        "If you get a package import error, you may have to first install some of these packages. This can usually be accomplished by opening up a command window on Windows and then typing 'python -m pip install [package-name]'. More assistance is available with the respective package docs.  "
      ]
    },
    {
      "cell_type": "markdown",
      "metadata": {
        "id": "hoHZRvALeyAr"
      },
      "source": [
        "\n",
        "#### Set the working directory\n",
        "\n",
        "I always like to do this so I don't lose files and to simplify subsequent read and writes (avoid including the full address each time).  Also, in this case make sure to place the required (see above) GSLIB executables in this directory or a location identified in the environmental variable *Path*."
      ]
    },
    {
      "cell_type": "code",
      "metadata": {
        "id": "oGiDPiUZeyAs"
      },
      "source": [
        "os.chdir(\"c:/PGE383\")                                   # set the working directory"
      ],
      "execution_count": null,
      "outputs": []
    },
    {
      "cell_type": "markdown",
      "metadata": {
        "id": "GqTHBREueyAy"
      },
      "source": [
        "#### Loading Tabular Data\n",
        "\n",
        "Here's the command to load our comma delimited data file in to a Pandas' DataFrame object. "
      ]
    },
    {
      "cell_type": "code",
      "metadata": {
        "id": "Q6hRV2gXeyA0",
        "outputId": "6756f2bc-06b0-4c88-9f82-7d2edc6d3f19"
      },
      "source": [
        "df = pd.read_csv(\"spatial_nonlinear_MV_facies_v3.csv\")           # read a .csv file in as a DataFrame\n",
        "df.head()                                               # we could also use this command for a table preview "
      ],
      "execution_count": null,
      "outputs": [
        {
          "output_type": "execute_result",
          "data": {
            "text/html": [
              "<div>\n",
              "<style scoped>\n",
              "    .dataframe tbody tr th:only-of-type {\n",
              "        vertical-align: middle;\n",
              "    }\n",
              "\n",
              "    .dataframe tbody tr th {\n",
              "        vertical-align: top;\n",
              "    }\n",
              "\n",
              "    .dataframe thead th {\n",
              "        text-align: right;\n",
              "    }\n",
              "</style>\n",
              "<table border=\"1\" class=\"dataframe\">\n",
              "  <thead>\n",
              "    <tr style=\"text-align: right;\">\n",
              "      <th></th>\n",
              "      <th>Unnamed: 0</th>\n",
              "      <th>X</th>\n",
              "      <th>Y</th>\n",
              "      <th>Por</th>\n",
              "      <th>Perm</th>\n",
              "      <th>AI</th>\n",
              "      <th>Facies</th>\n",
              "    </tr>\n",
              "  </thead>\n",
              "  <tbody>\n",
              "    <tr>\n",
              "      <th>0</th>\n",
              "      <td>458</td>\n",
              "      <td>150</td>\n",
              "      <td>909</td>\n",
              "      <td>13.133413</td>\n",
              "      <td>485.231658</td>\n",
              "      <td>3848.226472</td>\n",
              "      <td>1</td>\n",
              "    </tr>\n",
              "    <tr>\n",
              "      <th>1</th>\n",
              "      <td>228</td>\n",
              "      <td>690</td>\n",
              "      <td>9</td>\n",
              "      <td>3.235632</td>\n",
              "      <td>138.238177</td>\n",
              "      <td>5673.521586</td>\n",
              "      <td>0</td>\n",
              "    </tr>\n",
              "    <tr>\n",
              "      <th>2</th>\n",
              "      <td>324</td>\n",
              "      <td>825</td>\n",
              "      <td>775</td>\n",
              "      <td>9.012557</td>\n",
              "      <td>317.338989</td>\n",
              "      <td>4370.886936</td>\n",
              "      <td>1</td>\n",
              "    </tr>\n",
              "    <tr>\n",
              "      <th>3</th>\n",
              "      <td>252</td>\n",
              "      <td>530</td>\n",
              "      <td>759</td>\n",
              "      <td>11.138872</td>\n",
              "      <td>414.252249</td>\n",
              "      <td>4003.754472</td>\n",
              "      <td>1</td>\n",
              "    </tr>\n",
              "    <tr>\n",
              "      <th>4</th>\n",
              "      <td>318</td>\n",
              "      <td>775</td>\n",
              "      <td>75</td>\n",
              "      <td>9.233079</td>\n",
              "      <td>350.924567</td>\n",
              "      <td>4134.272337</td>\n",
              "      <td>1</td>\n",
              "    </tr>\n",
              "  </tbody>\n",
              "</table>\n",
              "</div>"
            ],
            "text/plain": [
              "   Unnamed: 0    X    Y        Por        Perm           AI  Facies\n",
              "0         458  150  909  13.133413  485.231658  3848.226472       1\n",
              "1         228  690    9   3.235632  138.238177  5673.521586       0\n",
              "2         324  825  775   9.012557  317.338989  4370.886936       1\n",
              "3         252  530  759  11.138872  414.252249  4003.754472       1\n",
              "4         318  775   75   9.233079  350.924567  4134.272337       1"
            ]
          },
          "metadata": {
            "tags": []
          },
          "execution_count": 25
        }
      ]
    },
    {
      "cell_type": "markdown",
      "metadata": {
        "id": "16LQxFRaeyA6"
      },
      "source": [
        "The features:\n",
        "\n",
        "* **X** - x coordinate in meters\n",
        "* **Y** - y coordinate in meters\n",
        "* **Porosity** - rock porosity averaged over a specific rock unit from a vertical well\n",
        "* **Perm** - rock permeability averaged (scaled up) over a specific rock unit from a vertical well \n",
        "* **AI** - acoustic impedance from a seismic cube assigned at a specific rock unit and at the location of a vertical well \n",
        "* **facies** - facies, 0 - shale, 1 - sandstone\n",
        "\n",
        "Concerning facies:\n",
        "\n",
        "We will work with all facies pooled together. I wanted to simplify this workflow and focus more on spatial continuity direction detection. Finally, by not using facies we do have more samples to support our statistical inference. Most often facies are essential in the subsurface model. Don't worry we will check if this is reasonable in a bit.   \n",
        "\n",
        "You are welcome to repeat this workflow on a by-facies basis.  The following code could be used to build DataFrames ('df_sand' and 'df_shale') for each facies.\n",
        "\n",
        "```p\n",
        "df_sand = pd.DataFrame.copy(df[df['Facies'] == 1]).reset_index()  # copy only 'Facies' = sand records\n",
        "df_shale = pd.DataFrame.copy(df[df['Facies'] == 0]).reset_index() # copy only 'Facies' = shale records\n",
        "```\n",
        "\n",
        "Let's look at summary statistics for all facies combined:"
      ]
    },
    {
      "cell_type": "code",
      "metadata": {
        "id": "UN3R_KVleyA7",
        "outputId": "da7fb0eb-4772-4fee-8160-95e2b9494c52"
      },
      "source": [
        "df.describe().transpose()                               # summary table of sand only DataFrame statistics"
      ],
      "execution_count": null,
      "outputs": [
        {
          "output_type": "execute_result",
          "data": {
            "text/html": [
              "<div>\n",
              "<style scoped>\n",
              "    .dataframe tbody tr th:only-of-type {\n",
              "        vertical-align: middle;\n",
              "    }\n",
              "\n",
              "    .dataframe tbody tr th {\n",
              "        vertical-align: top;\n",
              "    }\n",
              "\n",
              "    .dataframe thead th {\n",
              "        text-align: right;\n",
              "    }\n",
              "</style>\n",
              "<table border=\"1\" class=\"dataframe\">\n",
              "  <thead>\n",
              "    <tr style=\"text-align: right;\">\n",
              "      <th></th>\n",
              "      <th>count</th>\n",
              "      <th>mean</th>\n",
              "      <th>std</th>\n",
              "      <th>min</th>\n",
              "      <th>25%</th>\n",
              "      <th>50%</th>\n",
              "      <th>75%</th>\n",
              "      <th>max</th>\n",
              "    </tr>\n",
              "  </thead>\n",
              "  <tbody>\n",
              "    <tr>\n",
              "      <th>Unnamed: 0</th>\n",
              "      <td>270.0</td>\n",
              "      <td>227.829630</td>\n",
              "      <td>141.514802</td>\n",
              "      <td>0.000000</td>\n",
              "      <td>102.250000</td>\n",
              "      <td>220.500000</td>\n",
              "      <td>336.000000</td>\n",
              "      <td>499.000000</td>\n",
              "    </tr>\n",
              "    <tr>\n",
              "      <th>X</th>\n",
              "      <td>270.0</td>\n",
              "      <td>472.537037</td>\n",
              "      <td>288.917266</td>\n",
              "      <td>0.000000</td>\n",
              "      <td>225.000000</td>\n",
              "      <td>475.000000</td>\n",
              "      <td>745.000000</td>\n",
              "      <td>990.000000</td>\n",
              "    </tr>\n",
              "    <tr>\n",
              "      <th>Y</th>\n",
              "      <td>270.0</td>\n",
              "      <td>522.622222</td>\n",
              "      <td>277.643599</td>\n",
              "      <td>9.000000</td>\n",
              "      <td>309.000000</td>\n",
              "      <td>525.000000</td>\n",
              "      <td>769.000000</td>\n",
              "      <td>999.000000</td>\n",
              "    </tr>\n",
              "    <tr>\n",
              "      <th>Por</th>\n",
              "      <td>270.0</td>\n",
              "      <td>10.778590</td>\n",
              "      <td>3.665004</td>\n",
              "      <td>3.135247</td>\n",
              "      <td>7.909297</td>\n",
              "      <td>10.557808</td>\n",
              "      <td>13.119702</td>\n",
              "      <td>21.599413</td>\n",
              "    </tr>\n",
              "    <tr>\n",
              "      <th>Perm</th>\n",
              "      <td>270.0</td>\n",
              "      <td>406.286106</td>\n",
              "      <td>147.891654</td>\n",
              "      <td>138.238177</td>\n",
              "      <td>309.663433</td>\n",
              "      <td>408.150631</td>\n",
              "      <td>495.549617</td>\n",
              "      <td>798.263353</td>\n",
              "    </tr>\n",
              "    <tr>\n",
              "      <th>AI</th>\n",
              "      <td>270.0</td>\n",
              "      <td>4292.475630</td>\n",
              "      <td>433.786043</td>\n",
              "      <td>3630.239427</td>\n",
              "      <td>3981.691958</td>\n",
              "      <td>4192.107297</td>\n",
              "      <td>4491.224552</td>\n",
              "      <td>5701.203128</td>\n",
              "    </tr>\n",
              "    <tr>\n",
              "      <th>Facies</th>\n",
              "      <td>270.0</td>\n",
              "      <td>0.785185</td>\n",
              "      <td>0.411456</td>\n",
              "      <td>0.000000</td>\n",
              "      <td>1.000000</td>\n",
              "      <td>1.000000</td>\n",
              "      <td>1.000000</td>\n",
              "      <td>1.000000</td>\n",
              "    </tr>\n",
              "  </tbody>\n",
              "</table>\n",
              "</div>"
            ],
            "text/plain": [
              "            count         mean         std          min          25%  \\\n",
              "Unnamed: 0  270.0   227.829630  141.514802     0.000000   102.250000   \n",
              "X           270.0   472.537037  288.917266     0.000000   225.000000   \n",
              "Y           270.0   522.622222  277.643599     9.000000   309.000000   \n",
              "Por         270.0    10.778590    3.665004     3.135247     7.909297   \n",
              "Perm        270.0   406.286106  147.891654   138.238177   309.663433   \n",
              "AI          270.0  4292.475630  433.786043  3630.239427  3981.691958   \n",
              "Facies      270.0     0.785185    0.411456     0.000000     1.000000   \n",
              "\n",
              "                    50%          75%          max  \n",
              "Unnamed: 0   220.500000   336.000000   499.000000  \n",
              "X            475.000000   745.000000   990.000000  \n",
              "Y            525.000000   769.000000   999.000000  \n",
              "Por           10.557808    13.119702    21.599413  \n",
              "Perm         408.150631   495.549617   798.263353  \n",
              "AI          4192.107297  4491.224552  5701.203128  \n",
              "Facies         1.000000     1.000000     1.000000  "
            ]
          },
          "metadata": {
            "tags": []
          },
          "execution_count": 26
        }
      ]
    },
    {
      "cell_type": "markdown",
      "metadata": {
        "id": "jCg_GVXQeyA-"
      },
      "source": [
        "#### Set the Model Parameters\n",
        "\n",
        "See the the following model parameters:\n",
        "\n",
        "* **xmin**, **xmax**, **ymin** and **ymax** - extents of the dataset for plotting\n",
        "* **feature** and **feature_units** - feature of interest and associated units\n",
        "* **vmin** and **vmax** - minimum and maximum of the feature of interest"
      ]
    },
    {
      "cell_type": "code",
      "metadata": {
        "id": "Bg6AbJAmeyA_"
      },
      "source": [
        "xmin = 0.0; xmax = 1000.0                                # spatial extents in x and y\n",
        "ymin = 0.0; ymax = 1000.0\n",
        "feature = 'Por'; feature_units = 'percentage'         # name and units of the feature of interest\n",
        "vmin = 0.0; vmax = 25.0                                  # min and max of the feature of interest\n",
        "cmap = plt.cm.inferno                                    # set the color map"
      ],
      "execution_count": null,
      "outputs": []
    },
    {
      "cell_type": "markdown",
      "metadata": {
        "id": "hMzblN35eyBD"
      },
      "source": [
        "Let's transform the feature to standard normal (mean = 0.0, standard deviation = 1.0, Gaussian shape). This is required for sequential Gaussian simulation (common target for our variogram models) and the Gaussian transform assists with outliers and provides more interpretable variograms. \n",
        "\n",
        "Let's look at the inputs for the GeostatsPy nscore program.  Note the output include an ndarray with the transformed values (in the same order as the input data in Dataframe 'df' and column 'vcol'), and the transformation table in original values and also in normal score values. "
      ]
    },
    {
      "cell_type": "code",
      "metadata": {
        "id": "FjxFPm9IeyBE",
        "outputId": "5f717d88-5efb-4cca-9e6d-e24433a6a19d"
      },
      "source": [
        "geostats.nscore                                         # see the input parameters required by the nscore function"
      ],
      "execution_count": null,
      "outputs": [
        {
          "output_type": "execute_result",
          "data": {
            "text/plain": [
              "<function geostatspy.geostats.nscore(df, vcol, wcol=None, ismooth=False, dfsmooth=None, smcol=0, smwcol=0)>"
            ]
          },
          "metadata": {
            "tags": []
          },
          "execution_count": 29
        }
      ]
    },
    {
      "cell_type": "markdown",
      "metadata": {
        "id": "3mnylowmeyBI"
      },
      "source": [
        "The following command will transform the Porosity and Permeabilty to standard normal. "
      ]
    },
    {
      "cell_type": "code",
      "metadata": {
        "id": "kNpRBm5reyBI"
      },
      "source": [
        "#Transform to Gaussian by Facies\n",
        "df['N' + feature], tvPor, tnsPor = geostats.nscore(df, feature) # nscore transform for all facies porosity "
      ],
      "execution_count": null,
      "outputs": []
    },
    {
      "cell_type": "markdown",
      "metadata": {
        "id": "07m0ZGaUeyBL"
      },
      "source": [
        "Let's look at the updated DataFrame to make sure that we now have the normal score porosity and permeability."
      ]
    },
    {
      "cell_type": "code",
      "metadata": {
        "id": "pOBeR5RSeyBM",
        "outputId": "5d0859c4-6445-4d23-c78c-c1a994d4a1de"
      },
      "source": [
        "df.head()                                               # preview sand DataFrame with nscore transforms"
      ],
      "execution_count": null,
      "outputs": [
        {
          "output_type": "execute_result",
          "data": {
            "text/html": [
              "<div>\n",
              "<style scoped>\n",
              "    .dataframe tbody tr th:only-of-type {\n",
              "        vertical-align: middle;\n",
              "    }\n",
              "\n",
              "    .dataframe tbody tr th {\n",
              "        vertical-align: top;\n",
              "    }\n",
              "\n",
              "    .dataframe thead th {\n",
              "        text-align: right;\n",
              "    }\n",
              "</style>\n",
              "<table border=\"1\" class=\"dataframe\">\n",
              "  <thead>\n",
              "    <tr style=\"text-align: right;\">\n",
              "      <th></th>\n",
              "      <th>Unnamed: 0</th>\n",
              "      <th>X</th>\n",
              "      <th>Y</th>\n",
              "      <th>Por</th>\n",
              "      <th>Perm</th>\n",
              "      <th>AI</th>\n",
              "      <th>Facies</th>\n",
              "      <th>NPor</th>\n",
              "    </tr>\n",
              "  </thead>\n",
              "  <tbody>\n",
              "    <tr>\n",
              "      <th>0</th>\n",
              "      <td>458</td>\n",
              "      <td>150</td>\n",
              "      <td>909</td>\n",
              "      <td>13.133413</td>\n",
              "      <td>485.231658</td>\n",
              "      <td>3848.226472</td>\n",
              "      <td>1</td>\n",
              "      <td>0.674490</td>\n",
              "    </tr>\n",
              "    <tr>\n",
              "      <th>1</th>\n",
              "      <td>228</td>\n",
              "      <td>690</td>\n",
              "      <td>9</td>\n",
              "      <td>3.235632</td>\n",
              "      <td>138.238177</td>\n",
              "      <td>5673.521586</td>\n",
              "      <td>0</td>\n",
              "      <td>-2.539185</td>\n",
              "    </tr>\n",
              "    <tr>\n",
              "      <th>2</th>\n",
              "      <td>324</td>\n",
              "      <td>825</td>\n",
              "      <td>775</td>\n",
              "      <td>9.012557</td>\n",
              "      <td>317.338989</td>\n",
              "      <td>4370.886936</td>\n",
              "      <td>1</td>\n",
              "      <td>-0.375340</td>\n",
              "    </tr>\n",
              "    <tr>\n",
              "      <th>3</th>\n",
              "      <td>252</td>\n",
              "      <td>530</td>\n",
              "      <td>759</td>\n",
              "      <td>11.138872</td>\n",
              "      <td>414.252249</td>\n",
              "      <td>4003.754472</td>\n",
              "      <td>1</td>\n",
              "      <td>0.097635</td>\n",
              "    </tr>\n",
              "    <tr>\n",
              "      <th>4</th>\n",
              "      <td>318</td>\n",
              "      <td>775</td>\n",
              "      <td>75</td>\n",
              "      <td>9.233079</td>\n",
              "      <td>350.924567</td>\n",
              "      <td>4134.272337</td>\n",
              "      <td>1</td>\n",
              "      <td>-0.306454</td>\n",
              "    </tr>\n",
              "  </tbody>\n",
              "</table>\n",
              "</div>"
            ],
            "text/plain": [
              "   Unnamed: 0    X    Y        Por        Perm           AI  Facies      NPor\n",
              "0         458  150  909  13.133413  485.231658  3848.226472       1  0.674490\n",
              "1         228  690    9   3.235632  138.238177  5673.521586       0 -2.539185\n",
              "2         324  825  775   9.012557  317.338989  4370.886936       1 -0.375340\n",
              "3         252  530  759  11.138872  414.252249  4003.754472       1  0.097635\n",
              "4         318  775   75   9.233079  350.924567  4134.272337       1 -0.306454"
            ]
          },
          "metadata": {
            "tags": []
          },
          "execution_count": 31
        }
      ]
    },
    {
      "cell_type": "markdown",
      "metadata": {
        "id": "lb62IpmYeyBP"
      },
      "source": [
        "That looks good! One way to check is to see if the relative magnitudes of the normal score transformed values match the original values.  e.g. that the normal score transform of 0.10 porosity normal score is less than the normal score transform of 0.14 porsity.  Also, the normal score transform of values close to the mean value should be close to 0.0 \n",
        "\n",
        "Let's also check the original and transformed sand and shale porosity distributions."
      ]
    },
    {
      "cell_type": "code",
      "metadata": {
        "id": "T4yu1_AveyBP",
        "outputId": "5ff3ef8c-749c-4665-c54c-4069fb541e08"
      },
      "source": [
        "plt.subplot(121)                                        # plot original sand and shale porosity histograms\n",
        "plt.hist(df[feature], facecolor='red',bins=np.linspace(vmin,vmax,1000),histtype=\"stepfilled\",alpha=0.2,density=True,cumulative=True,edgecolor='black')\n",
        "plt.xlim([vmin,vmax]); plt.ylim([0,1.0])\n",
        "plt.xlabel(feature + '(' + feature_units + ')'); plt.ylabel('Frequency'); plt.title('Porosity')\n",
        "plt.grid(True)\n",
        "\n",
        "plt.subplot(122)  \n",
        "plt.hist(df['N'+feature], facecolor='blue',bins=np.linspace(-3.0,3.0,1000),histtype=\"stepfilled\",alpha=0.2,density=True,cumulative=True,edgecolor='black')\n",
        "plt.xlim([-3.0,3.0]); plt.ylim([0,1.0])\n",
        "plt.xlabel('Gaussian Transformed ' + feature); plt.ylabel('Frequency'); plt.title('Guassian Transformed ' + feature)\n",
        "plt.grid(True)\n",
        "\n",
        "plt.subplots_adjust(left=0.0, bottom=0.0, right=2.0, top=1.2, wspace=0.2, hspace=0.3)\n",
        "plt.show()"
      ],
      "execution_count": null,
      "outputs": [
        {
          "output_type": "display_data",
          "data": {
            "image/png": "[encoded data removed]",
            "text/plain": [
              "<Figure size 432x288 with 2 Axes>"
            ]
          },
          "metadata": {
            "tags": [],
            "needs_background": "light"
          }
        }
      ]
    },
    {
      "cell_type": "markdown",
      "metadata": {
        "id": "v98_025reyBS"
      },
      "source": [
        "We can see that the normal score transform has correctly transformed the feature to standard normal.\n",
        "\n",
        "#### Inspection of Posted Data\n",
        "\n",
        "Data visualization is very useful to detect patterns. Our brains are very good at pattern detection. I promote quantitative methods and recognize issues with cognitive bias, but it is important to recognize the value is expert intepretation based on data visualization.\n",
        "\n",
        "* This data visualization will also be important to assist with parameter selection for the variogram calculation search template.\n",
        "\n",
        "Let's plot the location maps of the original feature and the normal score transforms of the feature."
      ]
    },
    {
      "cell_type": "code",
      "metadata": {
        "id": "yj6aNNxEeyBT",
        "outputId": "84b7776f-352d-4e33-e989-bcdd29c8cde1"
      },
      "source": [
        "plt.subplot(121)                                        # location map of normal score transform of porosity\n",
        "GSLIB.locmap_st(df,'X','Y',feature,0,1000,0,1000,vmin,vmax,feature,'X (m)','Y (m)',feature,cmap)\n",
        "\n",
        "plt.subplot(122)                                        # location map of normal score transform of porosity\n",
        "GSLIB.locmap_st(df,'X','Y','N'+feature,0,1000,0,1000,-3,3,'Gaussian Transformed ' + feature,'X (m)','Y (m)','Gaussian Transformed ' + feature,cmap)\n",
        "\n",
        "plt.subplots_adjust(left=0.0, bottom=0.0, right=2.0, top=1.0, wspace=0.5, hspace=0.3)\n",
        "plt.show()"
      ],
      "execution_count": null,
      "outputs": [
        {
          "output_type": "display_data",
          "data": {
            "image/png": "[encoded data removed]",
            "text/plain": [
              "<Figure size 432x288 with 4 Axes>"
            ]
          },
          "metadata": {
            "tags": [],
            "needs_background": "light"
          }
        }
      ]
    },
    {
      "cell_type": "markdown",
      "metadata": {
        "id": "2ybAA63peyBX"
      },
      "source": [
        "#### Dashboard for Interactive Variogram Calculation and Modeling\n",
        "\n",
        "Below we make a dashboard with the ipywidgets and matplotlib Python packages for calculating and modeling experimental variograms.\n",
        "\n",
        "* allowing you to calculate and model the variogram of the normal score transformed variogram interactively while changing (and exploring) the search template parameters.\n",
        "\n",
        "* first calculate the isotropic or directional variogram(s)\n",
        "\n",
        "* then fit the same isotropic or directional variogram(s)"
      ]
    },
    {
      "cell_type": "code",
      "metadata": {
        "id": "MupeZeHoeyBY"
      },
      "source": [
        "# interactive calculation of the experimental variogram\n",
        "l = widgets.Text(value='                              Variogram Calculation Interactive Demonstration, Michael Pyrcz, Associate Professor, The University of Texas at Austin',layout=Layout(width='950px', height='30px'))\n",
        "lag = widgets.FloatSlider(min = 10, max = 500, value = 10, step = 10, description = 'lag',orientation='vertical',layout=Layout(width='90px', height='200px'))\n",
        "lag.style.handle_color = 'gray'\n",
        "\n",
        "lag_tol = widgets.FloatSlider(min = 5, max = 500, value = 5, step = 10, description = 'lag tolerance',orientation='vertical',layout=Layout(width='90px', height='200px'))\n",
        "lag_tol.style.handle_color = 'gray'\n",
        "\n",
        "nlag = widgets.IntSlider(min = 1, max = 100, value = 100, step = 1, description = 'number of lags',orientation='vertical',layout=Layout(width='90px', height='200px'))\n",
        "nlag.style.handle_color = 'gray'\n",
        "\n",
        "azi = widgets.FloatSlider(min = 0, max = 360, value = 0, step = 5, description = 'azimuth',orientation='vertical',layout=Layout(width='90px', height='200px'))\n",
        "azi.style.handle_color = 'gray'\n",
        "\n",
        "azi_tol = widgets.FloatSlider(min = 10, max = 90, value = 10, step = 5, description = 'azimuth tolerance',orientation='vertical',layout=Layout(width='120px', height='200px'))\n",
        "azi_tol.style.handle_color = 'gray'\n",
        "\n",
        "bandwidth = widgets.FloatSlider(min = 100, max = 2000, value = 2000, step = 100, description = 'bandwidth',orientation='vertical',layout=Layout(width='90px', height='200px'))\n",
        "azi_tol.style.handle_color = 'gray'\n",
        "\n",
        "\n",
        "ui1 = widgets.HBox([lag,lag_tol,nlag,azi,azi_tol,bandwidth],) # basic widget formatting    \n",
        "ui = widgets.VBox([l,ui1],)\n",
        "\n",
        "def f_make(lag,lag_tol,nlag,azi,azi_tol,bandwidth):     # function to take parameters, calculate variogram and plot\n",
        "#    text_trap = io.StringIO()\n",
        "#    sys.stdout = text_trap\n",
        "    global lags,gammas,npps,lags2,gammas2,npps2\n",
        "    tmin = -9999.9; tmax = 9999.9\n",
        "    lags, gammas, npps = geostats.gamv(df,\"X\",\"Y\",\"N\"+feature,tmin,tmax,lag,lag_tol,nlag,azi,azi_tol,bandwidth,isill=1.0)\n",
        "    lags2, gammas2, npps2 = geostats.gamv(df,\"X\",\"Y\",\"N\"+feature,tmin,tmax,lag,lag_tol,nlag,azi+90.0,azi_tol,bandwidth,isill=1.0)\n",
        "    \n",
        "    plt.subplot(111)                                    # plot experimental variogram\n",
        "    plt.scatter(lags,gammas,color = 'black',s = npps*0.03,label = 'Major Azimuth ' +str(azi), alpha = 0.8)\n",
        "    plt.scatter(lags2,gammas2,color = 'red',s = npps*0.03,label = 'Minor Azimuth ' +str(azi+90.0), alpha = 0.8)\n",
        "    plt.plot([0,2000],[1.0,1.0],color = 'black')\n",
        "    plt.xlabel(r'Lag Distance $\\bf(h)$, (m)')\n",
        "    plt.ylabel(r'$\\gamma \\bf(h)$')\n",
        "    if azi_tol < 90.0:\n",
        "        plt.title('Directional NSCORE ' + feature + ' Variogram - Azi. ' + str(azi) + ', Azi. Tol.' + str(azi_tol))\n",
        "    else: \n",
        "        plt.title('Omni Directional NSCORE ' + feature + ' Variogram ')\n",
        "    plt.xlim([0,1000]); plt.ylim([0,1.8])\n",
        "    plt.legend(loc=\"lower right\")\n",
        "    plt.grid(True)\n",
        "    \n",
        "    plt.subplots_adjust(left=0.0, bottom=0.0, right=1.5, top=1.0, wspace=0.3, hspace=0.3)\n",
        "    plt.show()\n",
        "    \n",
        "    return\n",
        "    \n",
        "# connect the function to make the samples and plot to the widgets    \n",
        "interactive_plot = widgets.interactive_output(f_make, {'lag':lag,'lag_tol':lag_tol,'nlag':nlag,'azi':azi,'azi_tol':azi_tol,'bandwidth':bandwidth})\n",
        "interactive_plot.clear_output(wait = True)               # reduce flickering by delaying plot updating"
      ],
      "execution_count": null,
      "outputs": []
    },
    {
      "cell_type": "markdown",
      "metadata": {
        "id": "y-dLH0BVeyBb"
      },
      "source": [
        "### Interactive Variogram Calculation Demostration\n",
        "\n",
        "* calculate omnidirectional and direction experimental variograms \n",
        "\n",
        "#### Michael Pyrcz, Associate Professor, University of Texas at Austin \n",
        "\n",
        "##### [Twitter](https://twitter.com/geostatsguy) | [GitHub](https://github.com/GeostatsGuy) | [Website](http://michaelpyrcz.com) | [GoogleScholar](https://scholar.google.com/citations?user=QVZ20eQAAAAJ&hl=en&oi=ao) | [Book](https://www.amazon.com/Geostatistical-Reservoir-Modeling-Michael-Pyrcz/dp/0199731446) | [YouTube](https://www.youtube.com/channel/UCLqEr-xV-ceHdXXXrTId5ig)  | [LinkedIn](https://www.linkedin.com/in/michael-pyrcz-61a648a1) | [GeostatsPy](https://github.com/GeostatsGuy/GeostatsPy)\n",
        "\n",
        "### The Problem\n",
        "\n",
        "Calculate interpretable experimental variograms for sparse, irregularly-space spatial data. Note, size of the experimental point is scaled by the number of pairs.\n",
        "\n",
        "* **azimuth** is the azimuth of the lag vector\n",
        "\n",
        "* **azimuth tolerance** is the maximum allowable departure from the azimuth\n",
        "\n",
        "* **unit lag distance** the size of the bins in lag distance\n",
        "\n",
        "* **lag distance tolerance** - the allowable tolerance in lage distance\n",
        "\n",
        "* **number of lags** - number of lags in the experimental variogram\n",
        "\n",
        "* **bandwidth** - maximum departure from the lag vector"
      ]
    },
    {
      "cell_type": "code",
      "metadata": {
        "id": "w7gxO3AVeyBb",
        "outputId": "3f40449d-737f-48ff-9706-6726b2462910",
        "colab": {
          "referenced_widgets": [
            "c4443781f8c64078a11a6fcfc91842d3",
            "7b3834a991504ed88bd06964328735b2"
          ]
        }
      },
      "source": [
        "display(ui, interactive_plot)                           # display the interactive plot"
      ],
      "execution_count": null,
      "outputs": [
        {
          "output_type": "display_data",
          "data": {
            "application/vnd.jupyter.widget-view+json": {
              "model_id": "c4443781f8c64078a11a6fcfc91842d3",
              "version_major": 2,
              "version_minor": 0
            },
            "text/plain": [
              "VBox(children=(Text(value='                              Variogram Calculation Interactive Demonstration, Mich…"
            ]
          },
          "metadata": {
            "tags": []
          }
        },
        {
          "output_type": "display_data",
          "data": {
            "application/vnd.jupyter.widget-view+json": {
              "model_id": "7b3834a991504ed88bd06964328735b2",
              "version_major": 2,
              "version_minor": 0
            },
            "text/plain": [
              "Output(outputs=({'output_type': 'display_data', 'data': {'text/plain': '<Figure size 432x288 with 1 Axes>', 'i…"
            ]
          },
          "metadata": {
            "tags": []
          }
        }
      ]
    },
    {
      "cell_type": "code",
      "metadata": {
        "id": "aRJOBKmieyBe"
      },
      "source": [
        "# interactive calculation of the sample set (control of source parametric distribution and number of samples)\n",
        "l = widgets.Text(value='                              Variogram Modeling, Michael Pyrcz, Associate Professor, The University of Texas at Austin',layout=Layout(width='950px', height='30px'))\n",
        "nug = widgets.FloatSlider(min = 0, max = 1.0, value = 0.0, step = 0.1, description = 'nug',orientation='vertical',layout=Layout(width='60px', height='200px'))\n",
        "nug.style.handle_color = 'gray'\n",
        "it1 = widgets.Dropdown(options=['Spherical', 'Exponential', 'Gaussian'],value='Spherical',\n",
        "    description='Type1:',disabled=False,layout=Layout(width='200px', height='30px'))\n",
        "c1 = widgets.FloatSlider(min=0.0, max = 1.0, value = 0.1, description = 'c1',orientation='vertical',layout=Layout(width='60px', height='200px'))\n",
        "c1.style.handle_color = 'gray'\n",
        "hmaj1 = widgets.FloatSlider(min=0.01, max = 10000.0, value = 0.01, step = 25.0, description = 'hmaj1',orientation='vertical',layout=Layout(width='60px', height='200px'))\n",
        "hmaj1.style.handle_color = 'black'\n",
        "hmin1 = widgets.FloatSlider(min = 0.01, max = 10000.0, value = 0.01, step = 25.0, description = 'hmin1',orientation='vertical',layout=Layout(width='60px', height='200px'))\n",
        "hmin1.style.handle_color = 'red'\n",
        "\n",
        "it2 = widgets.Dropdown(options=['Spherical', 'Exponential', 'Gaussian'],value='Spherical',\n",
        "    description='Type2:',disabled=False,layout=Layout(width='200px', height='30px'))\n",
        "c2 = widgets.FloatSlider(min=0.0, max = 1.0, value = 0.0, description = 'c2',orientation='vertical',layout=Layout(width='60px', height='200px'))\n",
        "c2.style.handle_color = 'gray'\n",
        "hmaj2 = widgets.FloatSlider(min=0.01, max = 10000.0, value = 0.01, step = 100.0, description = 'hmaj2',orientation='vertical',layout=Layout(width='60px', height='200px'))\n",
        "hmaj2.style.handle_color = 'black'\n",
        "hmin2 = widgets.FloatSlider(min = 0.01, max = 10000.0, value = 0.01, step = 100.0, description = 'hmin2',orientation='vertical',layout=Layout(width='60px', height='200px'))\n",
        "hmin2.style.handle_color = 'red'\n",
        "\n",
        "ui1 = widgets.HBox([nug,it1,c1,hmaj1,hmin1,it2,c2,hmaj2,hmin2],)                   # basic widget formatting   \n",
        "#ui2 = widgets.HBox([it2,c2,hmaj2,hmin2],)                   # basic widget formatting   \n",
        "ui = widgets.VBox([l,ui1],)\n",
        "\n",
        "def convert_type(it):\n",
        "    if it == 'Spherical': \n",
        "        return 1\n",
        "    elif it == 'Exponential':\n",
        "        return 2\n",
        "    else: \n",
        "        return 3\n",
        "\n",
        "def f_make(nug,it1,c1, hmaj1, hmin1, it2, c2, hmaj2, hmin2):                       # function to take parameters, make sample and plot\n",
        "    text_trap = io.StringIO()\n",
        "    sys.stdout = text_trap\n",
        "    \n",
        "    it1 = convert_type(it1); it2 = convert_type(it2)\n",
        "    if c2 > 0.0:\n",
        "        nst = 2\n",
        "    else:\n",
        "        nst = 1\n",
        "    \n",
        "    vario = GSLIB.make_variogram(nug,nst,it1,c1,0.0,hmaj1,hmin1,it2,c2,0.0,hmaj2,hmin2) # make model object\n",
        "    nlag = 100; xlag = 10;                                     \n",
        "    index_maj,h_maj,gam_maj,cov_maj,ro_maj = geostats.vmodel(nlag,xlag,0.0,vario)   # project the model in the major azimuth                                                  # project the model in the 135 azimuth\n",
        "    index_min,h_min,gam_min,cov_min,ro_min = geostats.vmodel(nlag,xlag,90.0,vario)   \n",
        "\n",
        "    plt.subplot(111)                                    # plot experimental variogram\n",
        "    plt.scatter(lags,gammas,color = 'black',s = npps*0.03,label = 'Major Azimuth ' +str(azi.value), alpha = 0.8)\n",
        "    plt.plot(h_maj,gam_maj,color = 'black')\n",
        "    plt.scatter(lags2,gammas2,color = 'red',s = npps*0.03,label = 'Minor Azimuth ' +str(azi.value+90.0), alpha = 0.8)\n",
        "    plt.plot(h_min,gam_min,color = 'red')\n",
        "    plt.plot([0,2000],[1.0,1.0],color = 'black')\n",
        "    plt.xlabel(r'Lag Distance $\\bf(h)$, (m)')\n",
        "    plt.ylabel(r'$\\gamma \\bf(h)$')\n",
        "    if azi_tol.value < 90.0:\n",
        "        plt.title('Directional NSCORE ' + feature + ' Variogram - Azi. ' + str(azi.value) + ', Azi. Tol.' + str(azi_tol.value))\n",
        "    else: \n",
        "        plt.title('Omni Directional NSCORE ' + feature + ' Variogram ')\n",
        "    plt.xlim([0,1000]); plt.ylim([0,1.8])\n",
        "    plt.legend(loc=\"lower right\")\n",
        "    plt.grid(True)\n",
        "    \n",
        "    plt.subplots_adjust(left=0.0, bottom=0.0, right=2.2, top=1.5, wspace=0.3, hspace=0.3)\n",
        "    plt.show()\n",
        "    \n",
        "# connect the function to make the samples and plot to the widgets    \n",
        "interactive_plot = widgets.interactive_output(f_make, {'nug':nug, 'it1':it1,'c1':c1, 'hmaj1':hmaj1, 'hmin1':hmin1, 'it2':it2, 'c2':c2, 'hmaj2':hmaj2, 'hmin2':hmin2})\n",
        "interactive_plot.clear_output(wait = True)               # reduce flickering by delaying plot updating"
      ],
      "execution_count": null,
      "outputs": []
    },
    {
      "cell_type": "markdown",
      "metadata": {
        "id": "Mg4fLztJeyBh"
      },
      "source": [
        "### Interactive Nested Variogram Modeling Demostration\n",
        "\n",
        "* select the nested structures and their types, contributions and major and minor ranges \n",
        "\n",
        "#### Michael Pyrcz, Associate Professor, University of Texas at Austin \n",
        "\n",
        "##### [Twitter](https://twitter.com/geostatsguy) | [GitHub](https://github.com/GeostatsGuy) | [Website](http://michaelpyrcz.com) | [GoogleScholar](https://scholar.google.com/citations?user=QVZ20eQAAAAJ&hl=en&oi=ao) | [Book](https://www.amazon.com/Geostatistical-Reservoir-Modeling-Michael-Pyrcz/dp/0199731446) | [YouTube](https://www.youtube.com/channel/UCLqEr-xV-ceHdXXXrTId5ig)  | [LinkedIn](https://www.linkedin.com/in/michael-pyrcz-61a648a1) | [GeostatsPy](https://github.com/GeostatsGuy/GeostatsPy)\n",
        "\n",
        "### The Problem\n",
        "\n",
        "Fit a positive definite variogram model based on the addition of multiple structures each describing spatial components of the feature variance \n",
        "\n",
        "* **nug**: nugget effect\n",
        "\n",
        "* **c1 / c2**: contributions of the sill\n",
        "\n",
        "* **hmaj1 / hmaj2**: range in the major direction\n",
        "\n",
        "* **hmin1 / hmin2**: range in the minor direction"
      ]
    },
    {
      "cell_type": "code",
      "metadata": {
        "id": "au3Dt3r5eyBi",
        "outputId": "8271e9de-fa45-4512-a19d-817b1d6f5107",
        "colab": {
          "referenced_widgets": [
            "aa1aad3bef3d4e29b48d5e281e83a292",
            "28d8dbc972a74fdeae10057a11682bb4"
          ]
        }
      },
      "source": [
        "display(ui, interactive_plot)                           # display the interactive plot"
      ],
      "execution_count": null,
      "outputs": [
        {
          "output_type": "display_data",
          "data": {
            "application/vnd.jupyter.widget-view+json": {
              "model_id": "aa1aad3bef3d4e29b48d5e281e83a292",
              "version_major": 2,
              "version_minor": 0
            },
            "text/plain": [
              "VBox(children=(Text(value='                              Variogram Modeling, Michael Pyrcz, Associate Professo…"
            ]
          },
          "metadata": {
            "tags": []
          }
        },
        {
          "output_type": "display_data",
          "data": {
            "application/vnd.jupyter.widget-view+json": {
              "model_id": "28d8dbc972a74fdeae10057a11682bb4",
              "version_major": 2,
              "version_minor": 0
            },
            "text/plain": [
              "Output(outputs=({'output_type': 'stream', 'text': 'C:\\\\Users\\\\17137\\\\anaconda3\\\\lib\\\\site-packages\\\\geostatspy…"
            ]
          },
          "metadata": {
            "tags": []
          }
        }
      ]
    },
    {
      "cell_type": "markdown",
      "metadata": {
        "id": "ktrEY2tMeyBl"
      },
      "source": [
        "#### Comments\n",
        "\n",
        "This was a basic demonstration / exercise of variogram calculation and modeling for spatial continuity analysis. Much more could be done, I have other demonstrations on the basics of working with DataFrames, ndarrays, univariate statistics, plotting data, declustering, data transformations and many other workflows available at https://github.com/GeostatsGuy/PythonNumericalDemos and https://github.com/GeostatsGuy/GeostatsPy. \n",
        "  \n",
        "#### The Author:\n",
        "\n",
        "### Michael Pyrcz, Associate Professor, University of Texas at Austin \n",
        "*Novel Data Analytics, Geostatistics and Machine Learning Subsurface Solutions*\n",
        "\n",
        "With over 17 years of experience in subsurface consulting, research and development, Michael has returned to academia driven by his passion for teaching and enthusiasm for enhancing engineers' and geoscientists' impact in subsurface resource development. \n",
        "\n",
        "For more about Michael check out these links:\n",
        "\n",
        "#### [Twitter](https://twitter.com/geostatsguy) | [GitHub](https://github.com/GeostatsGuy) | [Website](http://michaelpyrcz.com) | [GoogleScholar](https://scholar.google.com/citations?user=QVZ20eQAAAAJ&hl=en&oi=ao) | [Book](https://www.amazon.com/Geostatistical-Reservoir-Modeling-Michael-Pyrcz/dp/0199731446) | [YouTube](https://www.youtube.com/channel/UCLqEr-xV-ceHdXXXrTId5ig)  | [LinkedIn](https://www.linkedin.com/in/michael-pyrcz-61a648a1)\n",
        "\n",
        "#### Want to Work Together?\n",
        "\n",
        "I hope this content is helpful to those that want to learn more about subsurface modeling, data analytics and machine learning. Students and working professionals are welcome to participate.\n",
        "\n",
        "* Want to invite me to visit your company for training, mentoring, project review, workflow design and / or consulting? I'd be happy to drop by and work with you! \n",
        "\n",
        "* Interested in partnering, supporting my graduate student research or my Subsurface Data Analytics and Machine Learning consortium (co-PIs including Profs. Foster, Torres-Verdin and van Oort)? My research combines data analytics, stochastic modeling and machine learning theory with practice to develop novel methods and workflows to add value. We are solving challenging subsurface problems!\n",
        "\n",
        "* I can be reached at mpyrcz@austin.utexas.edu.\n",
        "\n",
        "I'm always happy to discuss,\n",
        "\n",
        "*Michael*\n",
        "\n",
        "Michael Pyrcz, Ph.D., P.Eng. Associate Professor The Hildebrand Department of Petroleum and Geosystems Engineering, Bureau of Economic Geology, The Jackson School of Geosciences, The University of Texas at Austin\n",
        "\n",
        "#### More Resources Available at: [Twitter](https://twitter.com/geostatsguy) | [GitHub](https://github.com/GeostatsGuy) | [Website](http://michaelpyrcz.com) | [GoogleScholar](https://scholar.google.com/citations?user=QVZ20eQAAAAJ&hl=en&oi=ao) | [Book](https://www.amazon.com/Geostatistical-Reservoir-Modeling-Michael-Pyrcz/dp/0199731446) | [YouTube](https://www.youtube.com/channel/UCLqEr-xV-ceHdXXXrTId5ig)  | [LinkedIn](https://www.linkedin.com/in/michael-pyrcz-61a648a1)  \n",
        "  "
      ]
    }
  ]
}